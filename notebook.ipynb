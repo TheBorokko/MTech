{
 "cells": [
  {
   "cell_type": "markdown",
   "id": "genetic-criticism",
   "metadata": {},
   "source": [
    "# Задание 1. Статистика\n",
    "\n",
    "Руководство компании обратило внимание на то, что сотрудники старше 35 лет болеют чаще, чем более молодые сотрудники. Кроме этого, среди мужчин количество пропусков рабочих дней в связи с больничным выше, чем среди женщин. В связи с этой ситуацией, руководство организации планирует ввести дополнительные медицинские осмотры среди групп риска. \n",
    "Необходимо проверить следующие гипотезы:\n",
    "\n",
    "1)\tМужчины пропускают в течение года более 2 рабочих дней (work_days) по болезни значимо чаще женщин.\n",
    "\n",
    "2)\tРаботники старше 35 лет (age) пропускают в течение года более 2 рабочих дней (work_days) по болезни значимо чаще своих более молодых коллег.\n"
   ]
  },
  {
   "cell_type": "markdown",
   "id": "mounted-thunder",
   "metadata": {},
   "source": [
    "## 1. Загрузка и подготовка данных"
   ]
  },
  {
   "cell_type": "code",
   "execution_count": 1,
   "id": "analyzed-scout",
   "metadata": {},
   "outputs": [],
   "source": [
    "import pandas as pd\n",
    "from scipy import stats as st\n",
    "import seaborn as sns\n",
    "from numpy.random import RandomState\n",
    "import matplotlib.pyplot as plt\n",
    "\n",
    "state = RandomState(42)"
   ]
  },
  {
   "cell_type": "code",
   "execution_count": 2,
   "id": "polished-provider",
   "metadata": {},
   "outputs": [],
   "source": [
    "work_days = 2\n",
    "age = 35"
   ]
  },
  {
   "cell_type": "markdown",
   "id": "polish-piece",
   "metadata": {},
   "source": [
    "У этих данных есть особенность, они имеют encoding = ANSI, поэтому `read_csv` передадим параметр `encoding` равный `mbcs`:"
   ]
  },
  {
   "cell_type": "code",
   "execution_count": 3,
   "id": "british-minister",
   "metadata": {},
   "outputs": [],
   "source": [
    "data = pd.read_csv('Статистика.csv', encoding='mbcs')"
   ]
  },
  {
   "cell_type": "code",
   "execution_count": 4,
   "id": "underlying-teach",
   "metadata": {},
   "outputs": [
    {
     "data": {
      "text/html": [
       "<div>\n",
       "<style scoped>\n",
       "    .dataframe tbody tr th:only-of-type {\n",
       "        vertical-align: middle;\n",
       "    }\n",
       "\n",
       "    .dataframe tbody tr th {\n",
       "        vertical-align: top;\n",
       "    }\n",
       "\n",
       "    .dataframe thead th {\n",
       "        text-align: right;\n",
       "    }\n",
       "</style>\n",
       "<table border=\"1\" class=\"dataframe\">\n",
       "  <thead>\n",
       "    <tr style=\"text-align: right;\">\n",
       "      <th></th>\n",
       "      <th>Количество больничных дней</th>\n",
       "      <th>Возраст</th>\n",
       "      <th>Пол</th>\n",
       "    </tr>\n",
       "  </thead>\n",
       "  <tbody>\n",
       "    <tr>\n",
       "      <th>0</th>\n",
       "      <td>5</td>\n",
       "      <td>39</td>\n",
       "      <td>Ж</td>\n",
       "    </tr>\n",
       "    <tr>\n",
       "      <th>1</th>\n",
       "      <td>4</td>\n",
       "      <td>54</td>\n",
       "      <td>М</td>\n",
       "    </tr>\n",
       "    <tr>\n",
       "      <th>2</th>\n",
       "      <td>4</td>\n",
       "      <td>26</td>\n",
       "      <td>М</td>\n",
       "    </tr>\n",
       "    <tr>\n",
       "      <th>3</th>\n",
       "      <td>5</td>\n",
       "      <td>42</td>\n",
       "      <td>М</td>\n",
       "    </tr>\n",
       "    <tr>\n",
       "      <th>4</th>\n",
       "      <td>4</td>\n",
       "      <td>29</td>\n",
       "      <td>М</td>\n",
       "    </tr>\n",
       "    <tr>\n",
       "      <th>...</th>\n",
       "      <td>...</td>\n",
       "      <td>...</td>\n",
       "      <td>...</td>\n",
       "    </tr>\n",
       "    <tr>\n",
       "      <th>232</th>\n",
       "      <td>5</td>\n",
       "      <td>30</td>\n",
       "      <td>М</td>\n",
       "    </tr>\n",
       "    <tr>\n",
       "      <th>233</th>\n",
       "      <td>4</td>\n",
       "      <td>36</td>\n",
       "      <td>Ж</td>\n",
       "    </tr>\n",
       "    <tr>\n",
       "      <th>234</th>\n",
       "      <td>2</td>\n",
       "      <td>60</td>\n",
       "      <td>Ж</td>\n",
       "    </tr>\n",
       "    <tr>\n",
       "      <th>235</th>\n",
       "      <td>2</td>\n",
       "      <td>44</td>\n",
       "      <td>Ж</td>\n",
       "    </tr>\n",
       "    <tr>\n",
       "      <th>236</th>\n",
       "      <td>3</td>\n",
       "      <td>37</td>\n",
       "      <td>М</td>\n",
       "    </tr>\n",
       "  </tbody>\n",
       "</table>\n",
       "<p>237 rows × 3 columns</p>\n",
       "</div>"
      ],
      "text/plain": [
       "     Количество больничных дней  Возраст Пол\n",
       "0                             5       39   Ж\n",
       "1                             4       54   М\n",
       "2                             4       26   М\n",
       "3                             5       42   М\n",
       "4                             4       29   М\n",
       "..                          ...      ...  ..\n",
       "232                           5       30   М\n",
       "233                           4       36   Ж\n",
       "234                           2       60   Ж\n",
       "235                           2       44   Ж\n",
       "236                           3       37   М\n",
       "\n",
       "[237 rows x 3 columns]"
      ]
     },
     "execution_count": 4,
     "metadata": {},
     "output_type": "execute_result"
    }
   ],
   "source": [
    "data"
   ]
  },
  {
   "cell_type": "markdown",
   "id": "younger-peoples",
   "metadata": {},
   "source": [
    "Поскольку требуется определить пропускает ли более 2 рабочих дней работник, то введем новую колонку, которая принимает `True`, если количество больничных дней более 2, иначе `False`. Переведем колонку сразу в целочисленный тип:"
   ]
  },
  {
   "cell_type": "code",
   "execution_count": 5,
   "id": "damaged-potter",
   "metadata": {},
   "outputs": [],
   "source": [
    "data['is_greater_than'] = data['Количество больничных дней'] > work_days\n",
    "data = data.astype({'is_greater_than': 'int32'})"
   ]
  },
  {
   "cell_type": "markdown",
   "id": "congressional-advantage",
   "metadata": {},
   "source": [
    "## 2. Проверка гипотез"
   ]
  },
  {
   "cell_type": "markdown",
   "id": "supreme-grace",
   "metadata": {},
   "source": [
    "### 2.1. Bootstrap "
   ]
  },
  {
   "cell_type": "markdown",
   "id": "agricultural-harassment",
   "metadata": {},
   "source": [
    "Колонка `is_greater_than` имеет распределение Бернулли, поэтому применим метод `Bootstrap` для получения выборки нормального распределения."
   ]
  },
  {
   "cell_type": "code",
   "execution_count": 6,
   "id": "changing-saying",
   "metadata": {},
   "outputs": [],
   "source": [
    "m = []\n",
    "w = []\n",
    "workers_older = []\n",
    "workers_younger = []\n",
    "\n",
    "\n",
    "for i in range(5000):\n",
    "    m.append(data[data['Пол'] =='М'].sample(frac=1, replace=True, random_state=state)['is_greater_than'].mean())\n",
    "    w.append(data[data['Пол'] =='Ж'].sample(frac=1, replace=True, random_state=state)['is_greater_than'].mean())\n",
    "    workers_older.append(data[data['Возраст'] >= age].sample(frac=1, replace=True, random_state=state)['is_greater_than'].mean())\n",
    "    workers_younger.append(data[data['Возраст'] < age].sample(frac=1, replace=True, random_state=state)['is_greater_than'].mean())\n",
    "\n",
    "m = pd.Series(m)\n",
    "w = pd.Series(w)\n",
    "workers_older = pd.Series(workers_older)\n",
    "workers_younger = pd.Series(workers_younger)"
   ]
  },
  {
   "cell_type": "markdown",
   "id": "lesser-paintball",
   "metadata": {},
   "source": [
    "### 2.2. Графики получившихся распределений"
   ]
  },
  {
   "cell_type": "code",
   "execution_count": 7,
   "id": "thousand-sodium",
   "metadata": {},
   "outputs": [
    {
     "data": {
      "image/png": "[encoded data removed]",
      "text/plain": [
       "<Figure size 720x288 with 1 Axes>"
      ]
     },
     "metadata": {
      "needs_background": "light"
     },
     "output_type": "display_data"
    }
   ],
   "source": [
    "fig = plt.figure(figsize=(10, 4))\n",
    "ax = plt.axes(xlim=(0, 1), ylim=(0, 1250))\n",
    "plt.title('Распределение вероятностей мужчин и женщин, которые пропустили дней: ' + str(work_days))\n",
    "plt.xlabel(\"Вероятность пропуска более \" + str(work_days) + \" дней\")\n",
    "plt.ylabel(\"Количество\")\n",
    "m.hist(color='green', alpha = 0.5, bins=20)\n",
    "w.hist(color='blue', alpha = 0.5, bins=20)\n",
    "ax.legend(['Мужчины', 'Женщины'])\n",
    "plt.show()"
   ]
  },
  {
   "cell_type": "code",
   "execution_count": 8,
   "id": "practical-intake",
   "metadata": {},
   "outputs": [
    {
     "data": {
      "image/png": "[encoded data removed]",
      "text/plain": [
       "<Figure size 720x288 with 1 Axes>"
      ]
     },
     "metadata": {
      "needs_background": "light"
     },
     "output_type": "display_data"
    }
   ],
   "source": [
    "fig = plt.figure(figsize=(10, 4))\n",
    "ax = plt.axes(xlim=(0, 1), ylim=(0, 1250))\n",
    "plt.title('Распределение вероятностей людей, старше и младше ' + str(age) + ' лет, которые пропустили дней: ' + str(work_days))\n",
    "plt.xlabel(\"Вероятность пропуска более \" + str(work_days) + \" дней\")\n",
    "plt.ylabel(\"Количество\")\n",
    "workers_older.hist(color='green', alpha = 0.5, bins=20)\n",
    "workers_younger.hist(color='blue', alpha = 0.5, bins=20)\n",
    "ax.legend(['Люди, достигшие ' + str(age) + ' лет', 'Люди, младше ' + str(age) + ' лет'])\n",
    "plt.show()"
   ]
  },
  {
   "cell_type": "markdown",
   "id": "revised-pressing",
   "metadata": {},
   "source": [
    "### 2.3. Проверка гипотез"
   ]
  },
  {
   "cell_type": "markdown",
   "id": "african-registration",
   "metadata": {},
   "source": [
    "Проверять гипотезы будем по t-критерию Уэлча, поскольку нет оснований полагать, что дисперсии выборок равны. Такой метод реализован в `scipy.stats` функцией `ttest_ind(a, b, equal_var=False)`. За нулевую гипотезу возьмем равенство средних, за альтернативную среднее первой выборки больше чем у второй. Поэтому в функции укажем `alternative='greater'`."
   ]
  },
  {
   "cell_type": "markdown",
   "id": "similar-matrix",
   "metadata": {},
   "source": [
    "**1) Проверка гипотезы: Мужчины пропускают в течение года более 2 рабочих дней (work_days) по болезни значимо чаще женщин:**\n",
    "\n",
    "```\n",
    "H_0: Количество больничных дней мужчин более 2 дней (work_days) = количество больничных дней женщин более 2 дней (work_days)\n",
    "H_a: Количество больничных дней мужчин более 2 дней (work_days) > количество больничных дней женщин более 2 дней (work_days)\n",
    "alpha = 0.05\n",
    "```"
   ]
  },
  {
   "cell_type": "code",
   "execution_count": 9,
   "id": "expensive-beast",
   "metadata": {},
   "outputs": [
    {
     "name": "stdout",
     "output_type": "stream",
     "text": [
      "p-value = 1.0\n",
      "t-статистика Уэлча: -89.24263003801234\n",
      "Не получилось отвергнуть нулевую гипотезу\n"
     ]
    }
   ],
   "source": [
    "results = st.ttest_ind(m, w, equal_var=False, alternative='greater') # вызов метода для проверки гипотезы\n",
    "\n",
    "alpha = .05 # alpha = значение уровня значимости\n",
    "\n",
    "print('p-value =', results.pvalue) # вывод значения p-value на экран\n",
    "print('t-статистика Уэлча:', results.statistic)\n",
    "if results.pvalue < alpha:\n",
    "    print('Отвергаем нулевую гипотезу')\n",
    "else:\n",
    "    print('Не получилось отвергнуть нулевую гипотезу') # условный оператор с выводом строки с ответом"
   ]
  },
  {
   "cell_type": "markdown",
   "id": "significant-upset",
   "metadata": {},
   "source": [
    "**2)\tРаботники старше 35 лет (age) пропускают в течение года более 2 рабочих дней (work_days) по болезни значимо чаще своих более молодых коллег.**\n",
    "\n",
    "```\n",
    "H_0: Количество больничных дней более 2 дней (work_days) работников старше 35 лет (age) = количество больничных дней более 2 дней (work_days) работников моложе 35 лет (age)\n",
    "H_a: Количество больничных дней более 2 дней (work_days) работников старше 35 лет (age) > количество больничных дней более 2 дней (work_days) работников моложе 35 лет (age)\n",
    "alpha = 0.05\n",
    "```"
   ]
  },
  {
   "cell_type": "code",
   "execution_count": 10,
   "id": "involved-instruction",
   "metadata": {},
   "outputs": [
    {
     "name": "stdout",
     "output_type": "stream",
     "text": [
      "p-value = 1.0\n",
      "t-статистика Уэлча: -43.149576024421414\n",
      "Не получилось отвергнуть нулевую гипотезу\n"
     ]
    }
   ],
   "source": [
    "results = st.ttest_ind(workers_older, workers_younger, equal_var=False, alternative='greater') # вызов метода для проверки гипотезы\n",
    "\n",
    "alpha = .05 # alpha = значение уровня значимости\n",
    "\n",
    "print('p-value =', results.pvalue) # вывод значения p-value на экран\n",
    "print('t-статистика Уэлча:', results.statistic)\n",
    "if results.pvalue < alpha:\n",
    "    print('Отвергаем нулевую гипотезу')\n",
    "else:\n",
    "    print('Не получилось отвергнуть нулевую гипотезу') # условный оператор с выводом строки с ответом"
   ]
  }
 ],
 "metadata": {
  "kernelspec": {
   "display_name": "Python 3",
   "language": "python",
   "name": "python3"
  },
  "language_info": {
   "codemirror_mode": {
    "name": "ipython",
    "version": 3
   },
   "file_extension": ".py",
   "mimetype": "text/x-python",
   "name": "python",
   "nbconvert_exporter": "python",
   "pygments_lexer": "ipython3",
   "version": "3.8.8"
  }
 },
 "nbformat": 4,
 "nbformat_minor": 5
}
